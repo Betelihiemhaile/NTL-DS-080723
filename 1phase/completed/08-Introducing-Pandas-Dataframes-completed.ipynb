{
 "cells": [
  {
   "cell_type": "markdown",
   "metadata": {
    "toc": true
   },
   "source": [
    "<h1>Table of Contents<span class=\"tocSkip\"></span></h1>\n",
    "<div class=\"toc\"><ul class=\"toc-item\"><li><span><a href=\"#Objectives\" data-toc-modified-id=\"Objectives-1\"><span class=\"toc-item-num\">1&nbsp;&nbsp;</span>Objectives</a></span></li><li><span><a href=\"#What-is-Pandas?\" data-toc-modified-id=\"What-is-Pandas?-2\"><span class=\"toc-item-num\">2&nbsp;&nbsp;</span>What is Pandas?</a></span><ul class=\"toc-item\"><li><span><a href=\"#Accessing-Data\" data-toc-modified-id=\"Accessing-Data-2.1\"><span class=\"toc-item-num\">2.1&nbsp;&nbsp;</span>Accessing Data</a></span></li><li><span><a href=\"#DataFrames-and-Series\" data-toc-modified-id=\"DataFrames-and-Series-2.2\"><span class=\"toc-item-num\">2.2&nbsp;&nbsp;</span>DataFrames and Series</a></span></li><li><span><a href=\"#More-Basic-DataFrame-Attributes-and-Methods\" data-toc-modified-id=\"More-Basic-DataFrame-Attributes-and-Methods-2.3\"><span class=\"toc-item-num\">2.3&nbsp;&nbsp;</span>More Basic DataFrame Attributes and Methods</a></span><ul class=\"toc-item\"><li><span><a href=\"#.head()-:-first-5-rows\" data-toc-modified-id=\".head()-:-first-5-rows-2.3.1\"><span class=\"toc-item-num\">2.3.1&nbsp;&nbsp;</span><code>.head()</code> : first 5 rows</a></span></li><li><span><a href=\"#.tail()-:-last-5-rows\" data-toc-modified-id=\".tail()-:-last-5-rows-2.3.2\"><span class=\"toc-item-num\">2.3.2&nbsp;&nbsp;</span><code>.tail()</code> : last 5 rows</a></span></li><li><span><a href=\"#.info()-:-information-about-the-columns,-including-about-nulls-in-those-columns\" data-toc-modified-id=\".info()-:-information-about-the-columns,-including-about-nulls-in-those-columns-2.3.3\"><span class=\"toc-item-num\">2.3.3&nbsp;&nbsp;</span><code>.info()</code> : information about the columns, including about nulls in those columns</a></span></li><li><span><a href=\"#.describe()-:-statistics-about-the-data\" data-toc-modified-id=\".describe()-:-statistics-about-the-data-2.3.4\"><span class=\"toc-item-num\">2.3.4&nbsp;&nbsp;</span><code>.describe()</code> : statistics about the data</a></span></li><li><span><a href=\"#.dtypes-:-data-types-of-each-column\" data-toc-modified-id=\".dtypes-:-data-types-of-each-column-2.3.5\"><span class=\"toc-item-num\">2.3.5&nbsp;&nbsp;</span><code>.dtypes</code> : data types of each column</a></span></li><li><span><a href=\"#.shape-:-number-of-rows-and-columns\" data-toc-modified-id=\".shape-:-number-of-rows-and-columns-2.3.6\"><span class=\"toc-item-num\">2.3.6&nbsp;&nbsp;</span><code>.shape</code> : number of rows and columns</a></span></li><li><span><a href=\"#Statistics\" data-toc-modified-id=\"Statistics-2.3.7\"><span class=\"toc-item-num\">2.3.7&nbsp;&nbsp;</span>Statistics</a></span></li></ul></li><li><span><a href=\"#Enough-With-The-Small-Stuff---Bring-On-Real-Data!\" data-toc-modified-id=\"Enough-With-The-Small-Stuff---Bring-On-Real-Data!-2.4\"><span class=\"toc-item-num\">2.4&nbsp;&nbsp;</span>Enough With The Small Stuff - Bring On Real Data!</a></span><ul class=\"toc-item\"><li><ul class=\"toc-item\"><li><span><a href=\"#Any-Observations?\" data-toc-modified-id=\"Any-Observations?-2.4.0.1\"><span class=\"toc-item-num\">2.4.0.1&nbsp;&nbsp;</span>Any Observations?</a></span></li></ul></li></ul></li><li><span><a href=\"#Adding-to-a-DataFrame\" data-toc-modified-id=\"Adding-to-a-DataFrame-2.5\"><span class=\"toc-item-num\">2.5&nbsp;&nbsp;</span>Adding to a DataFrame</a></span><ul class=\"toc-item\"><li><span><a href=\"#Adding-Rows\" data-toc-modified-id=\"Adding-Rows-2.5.1\"><span class=\"toc-item-num\">2.5.1&nbsp;&nbsp;</span>Adding Rows</a></span></li></ul></li><li><span><a href=\"#Adding-(and-Deleting)-Columns\" data-toc-modified-id=\"Adding-(and-Deleting)-Columns-2.6\"><span class=\"toc-item-num\">2.6&nbsp;&nbsp;</span>Adding (and Deleting) Columns</a></span><ul class=\"toc-item\"><li><span><a href=\"#DateTime-Data!\" data-toc-modified-id=\"DateTime-Data!-2.6.1\"><span class=\"toc-item-num\">2.6.1&nbsp;&nbsp;</span>DateTime Data!</a></span></li></ul></li></ul></li><li><span><a href=\"#Filtering\" data-toc-modified-id=\"Filtering-3\"><span class=\"toc-item-num\">3&nbsp;&nbsp;</span>Filtering</a></span><ul class=\"toc-item\"><li><span><a href=\"#.loc\" data-toc-modified-id=\".loc-3.1\"><span class=\"toc-item-num\">3.1&nbsp;&nbsp;</span><code>.loc</code></a></span><ul class=\"toc-item\"><li><span><a href=\"#Your-turn!\" data-toc-modified-id=\"Your-turn!-3.1.1\"><span class=\"toc-item-num\">3.1.1&nbsp;&nbsp;</span>Your turn!</a></span><ul class=\"toc-item\"><li><span><a href=\"#Exercise-1\" data-toc-modified-id=\"Exercise-1-3.1.1.1\"><span class=\"toc-item-num\">3.1.1.1&nbsp;&nbsp;</span>Exercise 1</a></span></li><li><span><a href=\"#Exercise-2\" data-toc-modified-id=\"Exercise-2-3.1.1.2\"><span class=\"toc-item-num\">3.1.1.2&nbsp;&nbsp;</span>Exercise 2</a></span></li></ul></li></ul></li><li><span><a href=\"#.iloc\" data-toc-modified-id=\".iloc-3.2\"><span class=\"toc-item-num\">3.2&nbsp;&nbsp;</span><code>.iloc</code></a></span></li></ul></li><li><span><a href=\"#Series-Methods\" data-toc-modified-id=\"Series-Methods-4\"><span class=\"toc-item-num\">4&nbsp;&nbsp;</span>Series Methods</a></span><ul class=\"toc-item\"><li><span><a href=\"#.value_counts()\" data-toc-modified-id=\".value_counts()-4.1\"><span class=\"toc-item-num\">4.1&nbsp;&nbsp;</span><code>.value_counts()</code></a></span></li><li><span><a href=\"#.sort_values()\" data-toc-modified-id=\".sort_values()-4.2\"><span class=\"toc-item-num\">4.2&nbsp;&nbsp;</span><code>.sort_values()</code></a></span></li></ul></li><li><span><a href=\"#Extra-Credit:-Find-a-.csv-file-online-and-experiment-with-it.\" data-toc-modified-id=\"Extra-Credit:-Find-a-.csv-file-online-and-experiment-with-it.-5\"><span class=\"toc-item-num\">5&nbsp;&nbsp;</span>Extra Credit: Find a .csv file online and experiment with it.</a></span></li></ul></div>"
   ]
  },
  {
   "cell_type": "markdown",
   "metadata": {},
   "source": [
    "![pandas](https://upload.wikimedia.org/wikipedia/commons/thumb/e/ed/Pandas_logo.svg/2880px-Pandas_logo.svg.png)"
   ]
  },
  {
   "cell_type": "markdown",
   "metadata": {},
   "source": [
    "# Objectives"
   ]
  },
  {
   "cell_type": "markdown",
   "metadata": {},
   "source": [
    "- Load .csv files into `pandas` DataFrames\n",
    "- Describe and manipulate data in Series and DataFrames"
   ]
  },
  {
   "cell_type": "markdown",
   "metadata": {},
   "source": [
    "# What is Pandas?"
   ]
  },
  {
   "cell_type": "markdown",
   "metadata": {},
   "source": [
    "![I have no idea what I'm doing panda](https://cdn-images-1.medium.com/max/1600/1*oBx032ncOwLmCFX3Epo3Zg.jpeg)\n",
    "\n",
    "Just kidding - not actual literal pandas."
   ]
  },
  {
   "cell_type": "markdown",
   "metadata": {},
   "source": [
    "Pandas, as [the Anaconda docs](https://docs.anaconda.com/anaconda/packages/py3.7_osx-64/) tell us, offers us \"High-performance, easy-to-use data structures and data analysis tools.\" It's something like \"Excel for Python\", but it's quite a bit more powerful. The name comes from \"panel data\", a common way to describe the kind of multidimensional data we'll be working with in certain academic circles (namely, statistics and econometrics) [[Source]](https://www.dlr.de/sc/Portaldata/15/Resources/dokumente/pyhpc2011/submissions/pyhpc2011_submission_9.pdf)\n",
    "\n",
    "In order to use pandas, we'll need to import it into our notebook first."
   ]
  },
  {
   "cell_type": "code",
   "execution_count": 4,
   "metadata": {
    "ExecuteTime": {
     "end_time": "2023-04-07T16:02:04.152628Z",
     "start_time": "2023-04-07T16:02:04.142626Z"
    }
   },
   "outputs": [],
   "source": [
    "# Import - using the common alias\n",
    "import pandas as pd"
   ]
  },
  {
   "cell_type": "markdown",
   "metadata": {
    "heading_collapsed": true
   },
   "source": [
    "## Accessing Data\n",
    "\n",
    "![pandas documentation image showcasing the kinds of data it can both read and write to](https://pandas.pydata.org/docs/_images/02_io_readwrite.svg)\n",
    "\n",
    "[[Image Source]](https://pandas.pydata.org/docs/getting_started/intro_tutorials/02_read_write.html)"
   ]
  },
  {
   "cell_type": "markdown",
   "metadata": {
    "hidden": true
   },
   "source": [
    "Pandas can access a ton of different data types, including some that should be familiar: CSVs and JSONs! That's right, no more `with` / `open` statements now that we're using pandas!\n",
    "\n",
    "Most of the time, we'll see CSVs - so let's access a 'toy' data set quickly just to familiarize ourselves with using pandas. There's a heart dataset available in the data folder on this repository - let's read that in."
   ]
  },
  {
   "cell_type": "code",
   "execution_count": 5,
   "metadata": {
    "hidden": true
   },
   "outputs": [],
   "source": [
    "# Use read_csv to read in the heart csv file\n",
    "# Need to assign it to a variable too - let's call this heart_df\n"
   ]
  },
  {
   "cell_type": "markdown",
   "metadata": {
    "hidden": true
   },
   "source": [
    "The output of the `.read_csv()` function is a pandas *DataFrame*, which has a familiar tabaular structure of rows and columns."
   ]
  },
  {
   "cell_type": "code",
   "execution_count": 6,
   "metadata": {
    "hidden": true
   },
   "outputs": [],
   "source": [
    "# Let's check this variable out\n"
   ]
  },
  {
   "cell_type": "code",
   "execution_count": 7,
   "metadata": {
    "hidden": true
   },
   "outputs": [],
   "source": [
    "# What type is this variable?\n"
   ]
  },
  {
   "cell_type": "markdown",
   "metadata": {},
   "source": [
    "## DataFrames and Series"
   ]
  },
  {
   "cell_type": "markdown",
   "metadata": {},
   "source": [
    "Two main types of pandas objects are the DataFrame and the Series, the latter being in effect a single column of the former:"
   ]
  },
  {
   "cell_type": "code",
   "execution_count": 8,
   "metadata": {
    "ExecuteTime": {
     "end_time": "2023-04-07T16:04:00.542097Z",
     "start_time": "2023-04-07T16:04:00.463096Z"
    }
   },
   "outputs": [
    {
     "ename": "FileNotFoundError",
     "evalue": "[Errno 2] No such file or directory: './data/heart.csv'",
     "output_type": "error",
     "traceback": [
      "\u001b[0;31m---------------------------------------------------------------------------\u001b[0m",
      "\u001b[0;31mFileNotFoundError\u001b[0m                         Traceback (most recent call last)",
      "\u001b[0;32m<ipython-input-8-787e6e9b3cd2>\u001b[0m in \u001b[0;36m<module>\u001b[0;34m\u001b[0m\n\u001b[0;32m----> 1\u001b[0;31m \u001b[0mheart_df\u001b[0m \u001b[0;34m=\u001b[0m \u001b[0mpd\u001b[0m\u001b[0;34m.\u001b[0m\u001b[0mread_csv\u001b[0m\u001b[0;34m(\u001b[0m\u001b[0;34m'./data/heart.csv'\u001b[0m\u001b[0;34m)\u001b[0m\u001b[0;34m\u001b[0m\u001b[0;34m\u001b[0m\u001b[0m\n\u001b[0m",
      "\u001b[0;32m~/anaconda3/envs/learn-env/lib/python3.8/site-packages/pandas/io/parsers.py\u001b[0m in \u001b[0;36mread_csv\u001b[0;34m(filepath_or_buffer, sep, delimiter, header, names, index_col, usecols, squeeze, prefix, mangle_dupe_cols, dtype, engine, converters, true_values, false_values, skipinitialspace, skiprows, skipfooter, nrows, na_values, keep_default_na, na_filter, verbose, skip_blank_lines, parse_dates, infer_datetime_format, keep_date_col, date_parser, dayfirst, cache_dates, iterator, chunksize, compression, thousands, decimal, lineterminator, quotechar, quoting, doublequote, escapechar, comment, encoding, dialect, error_bad_lines, warn_bad_lines, delim_whitespace, low_memory, memory_map, float_precision)\u001b[0m\n\u001b[1;32m    684\u001b[0m     )\n\u001b[1;32m    685\u001b[0m \u001b[0;34m\u001b[0m\u001b[0m\n\u001b[0;32m--> 686\u001b[0;31m     \u001b[0;32mreturn\u001b[0m \u001b[0m_read\u001b[0m\u001b[0;34m(\u001b[0m\u001b[0mfilepath_or_buffer\u001b[0m\u001b[0;34m,\u001b[0m \u001b[0mkwds\u001b[0m\u001b[0;34m)\u001b[0m\u001b[0;34m\u001b[0m\u001b[0;34m\u001b[0m\u001b[0m\n\u001b[0m\u001b[1;32m    687\u001b[0m \u001b[0;34m\u001b[0m\u001b[0m\n\u001b[1;32m    688\u001b[0m \u001b[0;34m\u001b[0m\u001b[0m\n",
      "\u001b[0;32m~/anaconda3/envs/learn-env/lib/python3.8/site-packages/pandas/io/parsers.py\u001b[0m in \u001b[0;36m_read\u001b[0;34m(filepath_or_buffer, kwds)\u001b[0m\n\u001b[1;32m    450\u001b[0m \u001b[0;34m\u001b[0m\u001b[0m\n\u001b[1;32m    451\u001b[0m     \u001b[0;31m# Create the parser.\u001b[0m\u001b[0;34m\u001b[0m\u001b[0;34m\u001b[0m\u001b[0;34m\u001b[0m\u001b[0m\n\u001b[0;32m--> 452\u001b[0;31m     \u001b[0mparser\u001b[0m \u001b[0;34m=\u001b[0m \u001b[0mTextFileReader\u001b[0m\u001b[0;34m(\u001b[0m\u001b[0mfp_or_buf\u001b[0m\u001b[0;34m,\u001b[0m \u001b[0;34m**\u001b[0m\u001b[0mkwds\u001b[0m\u001b[0;34m)\u001b[0m\u001b[0;34m\u001b[0m\u001b[0;34m\u001b[0m\u001b[0m\n\u001b[0m\u001b[1;32m    453\u001b[0m \u001b[0;34m\u001b[0m\u001b[0m\n\u001b[1;32m    454\u001b[0m     \u001b[0;32mif\u001b[0m \u001b[0mchunksize\u001b[0m \u001b[0;32mor\u001b[0m \u001b[0miterator\u001b[0m\u001b[0;34m:\u001b[0m\u001b[0;34m\u001b[0m\u001b[0;34m\u001b[0m\u001b[0m\n",
      "\u001b[0;32m~/anaconda3/envs/learn-env/lib/python3.8/site-packages/pandas/io/parsers.py\u001b[0m in \u001b[0;36m__init__\u001b[0;34m(self, f, engine, **kwds)\u001b[0m\n\u001b[1;32m    944\u001b[0m             \u001b[0mself\u001b[0m\u001b[0;34m.\u001b[0m\u001b[0moptions\u001b[0m\u001b[0;34m[\u001b[0m\u001b[0;34m\"has_index_names\"\u001b[0m\u001b[0;34m]\u001b[0m \u001b[0;34m=\u001b[0m \u001b[0mkwds\u001b[0m\u001b[0;34m[\u001b[0m\u001b[0;34m\"has_index_names\"\u001b[0m\u001b[0;34m]\u001b[0m\u001b[0;34m\u001b[0m\u001b[0;34m\u001b[0m\u001b[0m\n\u001b[1;32m    945\u001b[0m \u001b[0;34m\u001b[0m\u001b[0m\n\u001b[0;32m--> 946\u001b[0;31m         \u001b[0mself\u001b[0m\u001b[0;34m.\u001b[0m\u001b[0m_make_engine\u001b[0m\u001b[0;34m(\u001b[0m\u001b[0mself\u001b[0m\u001b[0;34m.\u001b[0m\u001b[0mengine\u001b[0m\u001b[0;34m)\u001b[0m\u001b[0;34m\u001b[0m\u001b[0;34m\u001b[0m\u001b[0m\n\u001b[0m\u001b[1;32m    947\u001b[0m \u001b[0;34m\u001b[0m\u001b[0m\n\u001b[1;32m    948\u001b[0m     \u001b[0;32mdef\u001b[0m \u001b[0mclose\u001b[0m\u001b[0;34m(\u001b[0m\u001b[0mself\u001b[0m\u001b[0;34m)\u001b[0m\u001b[0;34m:\u001b[0m\u001b[0;34m\u001b[0m\u001b[0;34m\u001b[0m\u001b[0m\n",
      "\u001b[0;32m~/anaconda3/envs/learn-env/lib/python3.8/site-packages/pandas/io/parsers.py\u001b[0m in \u001b[0;36m_make_engine\u001b[0;34m(self, engine)\u001b[0m\n\u001b[1;32m   1176\u001b[0m     \u001b[0;32mdef\u001b[0m \u001b[0m_make_engine\u001b[0m\u001b[0;34m(\u001b[0m\u001b[0mself\u001b[0m\u001b[0;34m,\u001b[0m \u001b[0mengine\u001b[0m\u001b[0;34m=\u001b[0m\u001b[0;34m\"c\"\u001b[0m\u001b[0;34m)\u001b[0m\u001b[0;34m:\u001b[0m\u001b[0;34m\u001b[0m\u001b[0;34m\u001b[0m\u001b[0m\n\u001b[1;32m   1177\u001b[0m         \u001b[0;32mif\u001b[0m \u001b[0mengine\u001b[0m \u001b[0;34m==\u001b[0m \u001b[0;34m\"c\"\u001b[0m\u001b[0;34m:\u001b[0m\u001b[0;34m\u001b[0m\u001b[0;34m\u001b[0m\u001b[0m\n\u001b[0;32m-> 1178\u001b[0;31m             \u001b[0mself\u001b[0m\u001b[0;34m.\u001b[0m\u001b[0m_engine\u001b[0m \u001b[0;34m=\u001b[0m \u001b[0mCParserWrapper\u001b[0m\u001b[0;34m(\u001b[0m\u001b[0mself\u001b[0m\u001b[0;34m.\u001b[0m\u001b[0mf\u001b[0m\u001b[0;34m,\u001b[0m \u001b[0;34m**\u001b[0m\u001b[0mself\u001b[0m\u001b[0;34m.\u001b[0m\u001b[0moptions\u001b[0m\u001b[0;34m)\u001b[0m\u001b[0;34m\u001b[0m\u001b[0;34m\u001b[0m\u001b[0m\n\u001b[0m\u001b[1;32m   1179\u001b[0m         \u001b[0;32melse\u001b[0m\u001b[0;34m:\u001b[0m\u001b[0;34m\u001b[0m\u001b[0;34m\u001b[0m\u001b[0m\n\u001b[1;32m   1180\u001b[0m             \u001b[0;32mif\u001b[0m \u001b[0mengine\u001b[0m \u001b[0;34m==\u001b[0m \u001b[0;34m\"python\"\u001b[0m\u001b[0;34m:\u001b[0m\u001b[0;34m\u001b[0m\u001b[0;34m\u001b[0m\u001b[0m\n",
      "\u001b[0;32m~/anaconda3/envs/learn-env/lib/python3.8/site-packages/pandas/io/parsers.py\u001b[0m in \u001b[0;36m__init__\u001b[0;34m(self, src, **kwds)\u001b[0m\n\u001b[1;32m   2006\u001b[0m         \u001b[0mkwds\u001b[0m\u001b[0;34m[\u001b[0m\u001b[0;34m\"usecols\"\u001b[0m\u001b[0;34m]\u001b[0m \u001b[0;34m=\u001b[0m \u001b[0mself\u001b[0m\u001b[0;34m.\u001b[0m\u001b[0musecols\u001b[0m\u001b[0;34m\u001b[0m\u001b[0;34m\u001b[0m\u001b[0m\n\u001b[1;32m   2007\u001b[0m \u001b[0;34m\u001b[0m\u001b[0m\n\u001b[0;32m-> 2008\u001b[0;31m         \u001b[0mself\u001b[0m\u001b[0;34m.\u001b[0m\u001b[0m_reader\u001b[0m \u001b[0;34m=\u001b[0m \u001b[0mparsers\u001b[0m\u001b[0;34m.\u001b[0m\u001b[0mTextReader\u001b[0m\u001b[0;34m(\u001b[0m\u001b[0msrc\u001b[0m\u001b[0;34m,\u001b[0m \u001b[0;34m**\u001b[0m\u001b[0mkwds\u001b[0m\u001b[0;34m)\u001b[0m\u001b[0;34m\u001b[0m\u001b[0;34m\u001b[0m\u001b[0m\n\u001b[0m\u001b[1;32m   2009\u001b[0m         \u001b[0mself\u001b[0m\u001b[0;34m.\u001b[0m\u001b[0munnamed_cols\u001b[0m \u001b[0;34m=\u001b[0m \u001b[0mself\u001b[0m\u001b[0;34m.\u001b[0m\u001b[0m_reader\u001b[0m\u001b[0;34m.\u001b[0m\u001b[0munnamed_cols\u001b[0m\u001b[0;34m\u001b[0m\u001b[0;34m\u001b[0m\u001b[0m\n\u001b[1;32m   2010\u001b[0m \u001b[0;34m\u001b[0m\u001b[0m\n",
      "\u001b[0;32mpandas/_libs/parsers.pyx\u001b[0m in \u001b[0;36mpandas._libs.parsers.TextReader.__cinit__\u001b[0;34m()\u001b[0m\n",
      "\u001b[0;32mpandas/_libs/parsers.pyx\u001b[0m in \u001b[0;36mpandas._libs.parsers.TextReader._setup_parser_source\u001b[0;34m()\u001b[0m\n",
      "\u001b[0;31mFileNotFoundError\u001b[0m: [Errno 2] No such file or directory: './data/heart.csv'"
     ]
    }
   ],
   "source": [
    "heart_df = pd.read_csv('./data/heart.csv')"
   ]
  },
  {
   "cell_type": "code",
   "execution_count": null,
   "metadata": {
    "ExecuteTime": {
     "end_time": "2023-04-07T16:04:16.243629Z",
     "start_time": "2023-04-07T16:04:16.212596Z"
    }
   },
   "outputs": [],
   "source": [
    "heart_df"
   ]
  },
  {
   "cell_type": "code",
   "execution_count": null,
   "metadata": {
    "ExecuteTime": {
     "end_time": "2023-04-07T16:04:50.746625Z",
     "start_time": "2023-04-07T16:04:50.741597Z"
    }
   },
   "outputs": [],
   "source": [
    "type(heart_df)"
   ]
  },
  {
   "cell_type": "code",
   "execution_count": null,
   "metadata": {
    "ExecuteTime": {
     "end_time": "2023-04-07T16:05:25.466626Z",
     "start_time": "2023-04-07T16:05:25.453096Z"
    }
   },
   "outputs": [],
   "source": [
    "# Let's grab just one column\n",
    "heart_df['age']"
   ]
  },
  {
   "cell_type": "code",
   "execution_count": null,
   "metadata": {
    "ExecuteTime": {
     "end_time": "2023-04-07T16:05:49.181600Z",
     "start_time": "2023-04-07T16:05:49.168095Z"
    }
   },
   "outputs": [],
   "source": [
    "age_series = heart_df['age']"
   ]
  },
  {
   "cell_type": "code",
   "execution_count": null,
   "metadata": {
    "ExecuteTime": {
     "end_time": "2023-04-07T16:05:58.884597Z",
     "start_time": "2023-04-07T16:05:58.873097Z"
    }
   },
   "outputs": [],
   "source": [
    "type(age_series)"
   ]
  },
  {
   "cell_type": "markdown",
   "metadata": {},
   "source": [
    "Notice how we can isolate a column of our DataFrame simply by using square brackets together with the name of the column. We can also access columns as an attribute of the DataFrame - but that only works if the name of the column doesn't have any spaces or weird characters!"
   ]
  },
  {
   "cell_type": "code",
   "execution_count": null,
   "metadata": {
    "ExecuteTime": {
     "end_time": "2023-04-07T16:06:46.020097Z",
     "start_time": "2023-04-07T16:06:46.003597Z"
    }
   },
   "outputs": [],
   "source": [
    "# Grab the same column as an attribute\n",
    "heart_df.age"
   ]
  },
  {
   "cell_type": "code",
   "execution_count": null,
   "metadata": {
    "ExecuteTime": {
     "end_time": "2023-04-07T16:07:09.285597Z",
     "start_time": "2023-04-07T16:07:09.273597Z"
    }
   },
   "outputs": [],
   "source": [
    "heart_df['test col'] = heart_df.age * 2"
   ]
  },
  {
   "cell_type": "code",
   "execution_count": null,
   "metadata": {
    "ExecuteTime": {
     "end_time": "2023-04-07T16:07:11.967097Z",
     "start_time": "2023-04-07T16:07:11.942097Z"
    }
   },
   "outputs": [],
   "source": [
    "heart_df"
   ]
  },
  {
   "cell_type": "code",
   "execution_count": null,
   "metadata": {
    "ExecuteTime": {
     "end_time": "2023-04-07T16:07:26.614596Z",
     "start_time": "2023-04-07T16:07:26.607097Z"
    }
   },
   "outputs": [],
   "source": [
    "heart_df.test col"
   ]
  },
  {
   "cell_type": "code",
   "execution_count": null,
   "metadata": {
    "ExecuteTime": {
     "end_time": "2023-04-07T16:07:39.820596Z",
     "start_time": "2023-04-07T16:07:39.805097Z"
    }
   },
   "outputs": [],
   "source": [
    "heart_df['test col']"
   ]
  },
  {
   "cell_type": "code",
   "execution_count": null,
   "metadata": {
    "ExecuteTime": {
     "end_time": "2023-04-07T16:09:01.459128Z",
     "start_time": "2023-04-07T16:09:01.434601Z"
    }
   },
   "outputs": [],
   "source": [
    "heart_df[['age','cp']]"
   ]
  },
  {
   "cell_type": "code",
   "execution_count": null,
   "metadata": {},
   "outputs": [],
   "source": [
    "# What type is the column?\n"
   ]
  },
  {
   "cell_type": "markdown",
   "metadata": {},
   "source": [
    "Both Series and DataFrames have an *index* as well:"
   ]
  },
  {
   "cell_type": "code",
   "execution_count": null,
   "metadata": {
    "ExecuteTime": {
     "end_time": "2023-04-07T16:10:43.464596Z",
     "start_time": "2023-04-07T16:10:43.455096Z"
    }
   },
   "outputs": [],
   "source": [
    "# Check out the dataframe index\n",
    "heart_df.index"
   ]
  },
  {
   "cell_type": "code",
   "execution_count": null,
   "metadata": {
    "ExecuteTime": {
     "end_time": "2023-04-07T16:11:09.535597Z",
     "start_time": "2023-04-07T16:11:09.531097Z"
    }
   },
   "outputs": [],
   "source": [
    "# Check out the series index\n",
    "age_series.index"
   ]
  },
  {
   "cell_type": "markdown",
   "metadata": {},
   "source": [
    "DataFrames have columns - but a Series is just a single column, so it doesn't have the columns attribute."
   ]
  },
  {
   "cell_type": "code",
   "execution_count": null,
   "metadata": {
    "ExecuteTime": {
     "end_time": "2023-04-07T16:12:02.251096Z",
     "start_time": "2023-04-07T16:12:02.233597Z"
    }
   },
   "outputs": [],
   "source": [
    "# Check out the dataframe columns\n",
    "heart_df.columns"
   ]
  },
  {
   "cell_type": "code",
   "execution_count": null,
   "metadata": {
    "ExecuteTime": {
     "end_time": "2023-04-07T16:13:48.581097Z",
     "start_time": "2023-04-07T16:13:48.577597Z"
    }
   },
   "outputs": [],
   "source": [
    "heart_df.columns = [col.strip().replace(' ','').lower() for col in heart_df.columns]"
   ]
  },
  {
   "cell_type": "code",
   "execution_count": null,
   "metadata": {
    "ExecuteTime": {
     "end_time": "2023-04-07T16:13:49.108096Z",
     "start_time": "2023-04-07T16:13:49.090096Z"
    }
   },
   "outputs": [],
   "source": [
    "heart_df"
   ]
  },
  {
   "cell_type": "code",
   "execution_count": null,
   "metadata": {},
   "outputs": [],
   "source": []
  },
  {
   "cell_type": "code",
   "execution_count": null,
   "metadata": {},
   "outputs": [],
   "source": []
  },
  {
   "cell_type": "code",
   "execution_count": null,
   "metadata": {},
   "outputs": [],
   "source": []
  },
  {
   "cell_type": "code",
   "execution_count": null,
   "metadata": {
    "ExecuteTime": {
     "end_time": "2023-04-07T16:14:31.702096Z",
     "start_time": "2023-04-07T16:14:31.677597Z"
    }
   },
   "outputs": [],
   "source": [
    "# Now try with the series\n",
    "age_series.columns"
   ]
  },
  {
   "cell_type": "markdown",
   "metadata": {},
   "source": [
    "Pandas is built on top of NumPy, and we can always access the NumPy array underlying a DataFrame using `.values`."
   ]
  },
  {
   "cell_type": "code",
   "execution_count": null,
   "metadata": {
    "ExecuteTime": {
     "end_time": "2023-04-07T16:15:17.148096Z",
     "start_time": "2023-04-07T16:15:17.130596Z"
    },
    "scrolled": true
   },
   "outputs": [],
   "source": [
    "# Check out the dataframe values\n",
    "heart_df.values"
   ]
  },
  {
   "cell_type": "code",
   "execution_count": null,
   "metadata": {
    "ExecuteTime": {
     "end_time": "2023-04-07T16:15:55.495098Z",
     "start_time": "2023-04-07T16:15:55.489595Z"
    },
    "scrolled": true
   },
   "outputs": [],
   "source": [
    "type(heart_df.values)"
   ]
  },
  {
   "cell_type": "code",
   "execution_count": null,
   "metadata": {
    "ExecuteTime": {
     "end_time": "2023-04-07T16:18:22.094096Z",
     "start_time": "2023-04-07T16:18:22.090096Z"
    }
   },
   "outputs": [],
   "source": [
    "heart_df['letter'] = 'a'"
   ]
  },
  {
   "cell_type": "code",
   "execution_count": null,
   "metadata": {
    "ExecuteTime": {
     "end_time": "2023-04-07T16:18:28.185597Z",
     "start_time": "2023-04-07T16:18:28.158099Z"
    }
   },
   "outputs": [],
   "source": [
    "heart_df.head()"
   ]
  },
  {
   "cell_type": "code",
   "execution_count": null,
   "metadata": {
    "ExecuteTime": {
     "end_time": "2023-04-07T16:18:38.648097Z",
     "start_time": "2023-04-07T16:18:38.644597Z"
    }
   },
   "outputs": [],
   "source": [
    "heart_df.values"
   ]
  },
  {
   "cell_type": "code",
   "execution_count": null,
   "metadata": {
    "ExecuteTime": {
     "end_time": "2023-04-07T16:18:59.790098Z",
     "start_time": "2023-04-07T16:18:59.776597Z"
    }
   },
   "outputs": [],
   "source": [
    "type(heart_df.values)"
   ]
  },
  {
   "cell_type": "markdown",
   "metadata": {},
   "source": [
    "## More Basic DataFrame Attributes and Methods"
   ]
  },
  {
   "cell_type": "markdown",
   "metadata": {},
   "source": [
    "### `.head()` : first 5 rows"
   ]
  },
  {
   "cell_type": "code",
   "execution_count": null,
   "metadata": {
    "ExecuteTime": {
     "end_time": "2023-04-07T16:20:13.430596Z",
     "start_time": "2023-04-07T16:20:13.410096Z"
    }
   },
   "outputs": [],
   "source": [
    "heart_df.head()"
   ]
  },
  {
   "cell_type": "markdown",
   "metadata": {},
   "source": [
    "### `.tail()` : last 5 rows"
   ]
  },
  {
   "cell_type": "code",
   "execution_count": null,
   "metadata": {
    "ExecuteTime": {
     "end_time": "2023-04-07T16:20:20.436598Z",
     "start_time": "2023-04-07T16:20:20.417096Z"
    }
   },
   "outputs": [],
   "source": [
    "heart_df.tail()"
   ]
  },
  {
   "cell_type": "markdown",
   "metadata": {},
   "source": [
    "### `.info()` : information about the columns, including about nulls in those columns"
   ]
  },
  {
   "cell_type": "code",
   "execution_count": null,
   "metadata": {
    "ExecuteTime": {
     "end_time": "2023-04-07T16:21:32.806097Z",
     "start_time": "2023-04-07T16:21:32.797596Z"
    }
   },
   "outputs": [],
   "source": [
    "heart_df['strint'] = '1'"
   ]
  },
  {
   "cell_type": "code",
   "execution_count": null,
   "metadata": {
    "ExecuteTime": {
     "end_time": "2023-04-07T16:21:44.400097Z",
     "start_time": "2023-04-07T16:21:44.373098Z"
    }
   },
   "outputs": [],
   "source": [
    "heart_df.head()"
   ]
  },
  {
   "cell_type": "code",
   "execution_count": null,
   "metadata": {
    "ExecuteTime": {
     "end_time": "2023-04-07T16:21:33.813596Z",
     "start_time": "2023-04-07T16:21:33.797097Z"
    },
    "scrolled": false
   },
   "outputs": [],
   "source": [
    "heart_df.info()"
   ]
  },
  {
   "cell_type": "markdown",
   "metadata": {},
   "source": [
    "### `.describe()` : statistics about the data"
   ]
  },
  {
   "cell_type": "code",
   "execution_count": null,
   "metadata": {
    "ExecuteTime": {
     "end_time": "2023-04-07T16:22:27.257596Z",
     "start_time": "2023-04-07T16:22:27.192097Z"
    },
    "scrolled": true
   },
   "outputs": [],
   "source": [
    "heart_df.describe()"
   ]
  },
  {
   "cell_type": "code",
   "execution_count": null,
   "metadata": {
    "ExecuteTime": {
     "end_time": "2023-04-07T16:23:54.891596Z",
     "start_time": "2023-04-07T16:23:54.874097Z"
    }
   },
   "outputs": [],
   "source": [
    "heart_df.describe(include='object')"
   ]
  },
  {
   "cell_type": "markdown",
   "metadata": {},
   "source": [
    "### `.dtypes` : data types of each column"
   ]
  },
  {
   "cell_type": "code",
   "execution_count": null,
   "metadata": {
    "ExecuteTime": {
     "end_time": "2023-04-07T16:25:32.382597Z",
     "start_time": "2023-04-07T16:25:32.368099Z"
    }
   },
   "outputs": [],
   "source": [
    "heart_df.dtypes"
   ]
  },
  {
   "cell_type": "markdown",
   "metadata": {},
   "source": [
    "### `.shape` : number of rows and columns"
   ]
  },
  {
   "cell_type": "code",
   "execution_count": null,
   "metadata": {
    "ExecuteTime": {
     "end_time": "2023-04-07T16:25:52.098097Z",
     "start_time": "2023-04-07T16:25:52.084599Z"
    },
    "scrolled": true
   },
   "outputs": [],
   "source": [
    "heart_df.shape"
   ]
  },
  {
   "cell_type": "markdown",
   "metadata": {},
   "source": [
    "### Statistics\n",
    "\n",
    "We saw them above, in the `.describe`, but we can also calculate statistics by calling them individually."
   ]
  },
  {
   "cell_type": "code",
   "execution_count": null,
   "metadata": {
    "ExecuteTime": {
     "end_time": "2023-04-07T16:26:46.142596Z",
     "start_time": "2023-04-07T16:26:46.118097Z"
    }
   },
   "outputs": [],
   "source": [
    "# Calculate the mean - for the whole dataframe!\n",
    "heart_df.mean()"
   ]
  },
  {
   "cell_type": "markdown",
   "metadata": {},
   "source": [
    "Let's pause and interpret - any observations?\n",
    "\n",
    "- \n"
   ]
  },
  {
   "cell_type": "code",
   "execution_count": null,
   "metadata": {
    "ExecuteTime": {
     "end_time": "2023-04-07T16:27:52.346597Z",
     "start_time": "2023-04-07T16:27:52.325596Z"
    }
   },
   "outputs": [],
   "source": [
    "# Now min\n",
    "heart_df.min()"
   ]
  },
  {
   "cell_type": "code",
   "execution_count": null,
   "metadata": {
    "ExecuteTime": {
     "end_time": "2023-04-07T16:28:05.118596Z",
     "start_time": "2023-04-07T16:28:05.109597Z"
    }
   },
   "outputs": [],
   "source": [
    "# And max\n",
    "heart_df.max()"
   ]
  },
  {
   "cell_type": "markdown",
   "metadata": {},
   "source": [
    "## Enough With The Small Stuff - Bring On Real Data!\n",
    "\n",
    "Let's access an open data portal and get some real live data!"
   ]
  },
  {
   "cell_type": "markdown",
   "metadata": {},
   "source": [
    "Austin Animal Center Intake Data: https://data.austintexas.gov/Health-and-Community-Services/Austin-Animal-Center-Intakes/wter-evkm/"
   ]
  },
  {
   "cell_type": "code",
   "execution_count": null,
   "metadata": {
    "ExecuteTime": {
     "end_time": "2023-04-07T16:30:08.498597Z",
     "start_time": "2023-04-07T16:30:07.802596Z"
    }
   },
   "outputs": [],
   "source": [
    "# Accessing a CSV from a url\n",
    "intake_url = pd.read_csv('https://data.austintexas.gov/resource/wter-evkm.csv')"
   ]
  },
  {
   "cell_type": "code",
   "execution_count": null,
   "metadata": {
    "ExecuteTime": {
     "end_time": "2023-04-07T16:30:18.372127Z",
     "start_time": "2023-04-07T16:30:18.347127Z"
    }
   },
   "outputs": [],
   "source": [
    "intake_url.head()"
   ]
  },
  {
   "cell_type": "code",
   "execution_count": null,
   "metadata": {
    "ExecuteTime": {
     "end_time": "2023-04-07T16:31:08.855596Z",
     "start_time": "2023-04-07T16:31:08.095597Z"
    }
   },
   "outputs": [],
   "source": [
    "# Same as the JSON output from this API endpoint, but different levels of detail for dates!\n",
    "intake_json = pd.read_json('https://data.austintexas.gov/resource/wter-evkm.json')"
   ]
  },
  {
   "cell_type": "code",
   "execution_count": null,
   "metadata": {
    "ExecuteTime": {
     "end_time": "2023-04-07T16:31:13.118097Z",
     "start_time": "2023-04-07T16:31:13.101096Z"
    }
   },
   "outputs": [],
   "source": [
    "intake_json.head()"
   ]
  },
  {
   "cell_type": "code",
   "execution_count": null,
   "metadata": {
    "ExecuteTime": {
     "end_time": "2023-04-07T16:32:24.170096Z",
     "start_time": "2023-04-07T16:32:24.156596Z"
    }
   },
   "outputs": [],
   "source": [
    "# But this is only 1000 rows... website says there's 136K rows!\n",
    "intake_json.shape"
   ]
  },
  {
   "cell_type": "code",
   "execution_count": null,
   "metadata": {
    "ExecuteTime": {
     "end_time": "2023-04-07T16:33:07.539096Z",
     "start_time": "2023-04-07T16:33:07.526096Z"
    }
   },
   "outputs": [],
   "source": [
    "intake_url.shape"
   ]
  },
  {
   "cell_type": "code",
   "execution_count": null,
   "metadata": {
    "ExecuteTime": {
     "end_time": "2023-04-07T16:33:32.540596Z",
     "start_time": "2023-04-07T16:33:31.927596Z"
    }
   },
   "outputs": [],
   "source": [
    "# It's a limitation of the API - let's just download the data instead\n",
    "# It's in the data folder\n",
    "df = pd.read_csv('data/Austin_Animal_Center_Intakes-clean-year.csv')"
   ]
  },
  {
   "cell_type": "code",
   "execution_count": null,
   "metadata": {
    "ExecuteTime": {
     "end_time": "2023-04-07T16:33:37.283597Z",
     "start_time": "2023-04-07T16:33:37.264599Z"
    }
   },
   "outputs": [],
   "source": [
    "df.shape"
   ]
  },
  {
   "cell_type": "code",
   "execution_count": null,
   "metadata": {
    "ExecuteTime": {
     "end_time": "2023-04-07T16:33:50.164097Z",
     "start_time": "2023-04-07T16:33:50.142596Z"
    }
   },
   "outputs": [],
   "source": [
    "# Now let's explore those earlier attributes and methods on this dataset!\n",
    "# Check the first 5 rows\n",
    "df.head()"
   ]
  },
  {
   "cell_type": "code",
   "execution_count": null,
   "metadata": {
    "ExecuteTime": {
     "end_time": "2023-04-07T16:34:20.420096Z",
     "start_time": "2023-04-07T16:34:20.392598Z"
    }
   },
   "outputs": [],
   "source": [
    "# Check the last 5 rows\n",
    "df.tail()"
   ]
  },
  {
   "cell_type": "code",
   "execution_count": null,
   "metadata": {
    "ExecuteTime": {
     "end_time": "2023-04-07T16:34:34.292597Z",
     "start_time": "2023-04-07T16:34:34.273598Z"
    }
   },
   "outputs": [],
   "source": [
    "# Check the shape\n",
    "df.shape"
   ]
  },
  {
   "cell_type": "code",
   "execution_count": null,
   "metadata": {
    "ExecuteTime": {
     "end_time": "2023-04-07T16:34:42.368096Z",
     "start_time": "2023-04-07T16:34:42.361097Z"
    }
   },
   "outputs": [],
   "source": [
    "# Check the datatypes\n",
    "df.dtypes\n"
   ]
  },
  {
   "cell_type": "code",
   "execution_count": null,
   "metadata": {
    "ExecuteTime": {
     "end_time": "2023-04-07T16:35:06.765096Z",
     "start_time": "2023-04-07T16:35:06.682129Z"
    }
   },
   "outputs": [],
   "source": [
    "# Check more general information on the dataframe\n",
    "df.info()"
   ]
  },
  {
   "cell_type": "code",
   "execution_count": null,
   "metadata": {
    "ExecuteTime": {
     "end_time": "2023-04-07T16:35:57.558596Z",
     "start_time": "2023-04-07T16:35:57.011596Z"
    }
   },
   "outputs": [],
   "source": [
    "# Check summary/descriptive statistics on the dataframe\n",
    "df.describe(include='object')"
   ]
  },
  {
   "cell_type": "code",
   "execution_count": null,
   "metadata": {
    "ExecuteTime": {
     "end_time": "2023-04-07T16:36:11.539596Z",
     "start_time": "2023-04-07T16:36:11.508597Z"
    }
   },
   "outputs": [],
   "source": [
    "df.describe()"
   ]
  },
  {
   "cell_type": "markdown",
   "metadata": {
    "heading_collapsed": true
   },
   "source": [
    "#### Any Observations?\n",
    "\n",
    "- \n"
   ]
  },
  {
   "cell_type": "markdown",
   "metadata": {},
   "source": [
    "## Adding to a DataFrame"
   ]
  },
  {
   "cell_type": "markdown",
   "metadata": {},
   "source": [
    "### Adding Rows"
   ]
  },
  {
   "cell_type": "markdown",
   "metadata": {},
   "source": [
    "We have a new animal coming in, captured here in a Python dictionary:"
   ]
  },
  {
   "cell_type": "code",
   "execution_count": null,
   "metadata": {
    "ExecuteTime": {
     "end_time": "2023-04-07T16:40:09.759597Z",
     "start_time": "2023-04-07T16:40:09.738597Z"
    }
   },
   "outputs": [],
   "source": [
    "# Dictionary, where keys match the column names and values are the row values\n",
    "next_row = {\n",
    "    'Animal ID': ['A851755'],\n",
    "    'Name': [\"T'Challa\"],\n",
    "    'DateTime': ['2/28/2022 11:25:00 AM'],\n",
    "    'Year': [2022],\n",
    "    'Found Location': ['Houston (TX)'],\n",
    "    'Intake Type': ['Public Assist'],\n",
    "    'Intake Condition': ['Normal'],\n",
    "    'Animal Type': ['Cat'],\n",
    "    'Sex upon Intake': ['Neutered Male'],\n",
    "    'Age upon Intake': ['4 years'],\n",
    "    'Breed': ['Domestic Shorthair'],\n",
    "    'Color': ['Black']\n",
    "}\n",
    "next_row"
   ]
  },
  {
   "cell_type": "markdown",
   "metadata": {},
   "source": [
    "How can we add this to the bottom of our dataset?"
   ]
  },
  {
   "cell_type": "code",
   "execution_count": null,
   "metadata": {
    "ExecuteTime": {
     "end_time": "2023-04-07T16:40:11.247096Z",
     "start_time": "2023-04-07T16:40:11.228096Z"
    }
   },
   "outputs": [],
   "source": [
    "# Let's first turn this into a DataFrame.\n",
    "# We can use the .from_dict() method.\n",
    "new_animal = pd.DataFrame.from_dict(next_row)"
   ]
  },
  {
   "cell_type": "code",
   "execution_count": null,
   "metadata": {
    "ExecuteTime": {
     "end_time": "2023-04-07T16:40:15.432097Z",
     "start_time": "2023-04-07T16:40:15.404597Z"
    }
   },
   "outputs": [],
   "source": [
    "new_animal"
   ]
  },
  {
   "cell_type": "code",
   "execution_count": null,
   "metadata": {
    "ExecuteTime": {
     "end_time": "2023-04-07T16:41:07.744596Z",
     "start_time": "2023-04-07T16:41:07.695596Z"
    }
   },
   "outputs": [],
   "source": [
    "# Now we just need to concatenate the two DataFrames together.\n",
    "# Note the `ignore_index` parameter! We'll set that to True.\n",
    "df_augmented = pd.concat([df, new_animal], ignore_index=True)"
   ]
  },
  {
   "cell_type": "code",
   "execution_count": null,
   "metadata": {
    "ExecuteTime": {
     "end_time": "2023-04-07T16:41:14.735096Z",
     "start_time": "2023-04-07T16:41:14.719097Z"
    }
   },
   "outputs": [],
   "source": [
    "# Let's check the end to make sure we were successful!\n",
    "df_augmented.tail()"
   ]
  },
  {
   "cell_type": "markdown",
   "metadata": {},
   "source": [
    "## Adding (and Deleting) Columns"
   ]
  },
  {
   "cell_type": "markdown",
   "metadata": {},
   "source": [
    "Adding a column is very easy in `pandas`. Let's add a new column to our dataset called \"test\", and set all of its values to 0."
   ]
  },
  {
   "cell_type": "code",
   "execution_count": null,
   "metadata": {
    "ExecuteTime": {
     "end_time": "2023-04-07T16:44:35.243096Z",
     "start_time": "2023-04-07T16:44:35.227096Z"
    }
   },
   "outputs": [],
   "source": [
    "# Create a new column, 'test', where every value in the col is 0\n",
    "df['test'] = 0"
   ]
  },
  {
   "cell_type": "code",
   "execution_count": null,
   "metadata": {
    "ExecuteTime": {
     "end_time": "2023-04-07T16:44:35.553096Z",
     "start_time": "2023-04-07T16:44:35.527097Z"
    }
   },
   "outputs": [],
   "source": [
    "# Sanity check\n",
    "df.head()"
   ]
  },
  {
   "cell_type": "markdown",
   "metadata": {},
   "source": [
    "But we don't need that - let's drop that column."
   ]
  },
  {
   "cell_type": "code",
   "execution_count": null,
   "metadata": {
    "ExecuteTime": {
     "end_time": "2023-04-07T16:45:01.825598Z",
     "start_time": "2023-04-07T16:45:01.798596Z"
    }
   },
   "outputs": [],
   "source": [
    "# Drop that test column\n",
    "df = df.drop(columns=['test'])"
   ]
  },
  {
   "cell_type": "code",
   "execution_count": null,
   "metadata": {
    "ExecuteTime": {
     "end_time": "2023-04-07T16:45:02.910597Z",
     "start_time": "2023-04-07T16:45:02.896596Z"
    }
   },
   "outputs": [],
   "source": [
    "# Sanity check\n",
    "df.head()"
   ]
  },
  {
   "cell_type": "markdown",
   "metadata": {},
   "source": [
    "We can also do math with columns, or use mathematical notation to combine columns even when they aren't numerical!\n",
    "\n",
    "We don't have any numeric data in this current dataset. But we can still create a combined \"Type\" column that combines the values of our Intake Type and Animal Type columns."
   ]
  },
  {
   "cell_type": "code",
   "execution_count": null,
   "metadata": {
    "ExecuteTime": {
     "end_time": "2023-04-07T16:46:33.787097Z",
     "start_time": "2023-04-07T16:46:33.743097Z"
    }
   },
   "outputs": [],
   "source": [
    "# Create a new column, 'Type', from the two 'Type' columns\n",
    "df['Type'] = df['Intake Type'] + ' ' + df['Animal Type']"
   ]
  },
  {
   "cell_type": "code",
   "execution_count": null,
   "metadata": {
    "ExecuteTime": {
     "end_time": "2023-04-07T16:46:37.367596Z",
     "start_time": "2023-04-07T16:46:37.339598Z"
    }
   },
   "outputs": [],
   "source": [
    "# Sanity check\n",
    "df.head()"
   ]
  },
  {
   "cell_type": "markdown",
   "metadata": {},
   "source": [
    "# Filtering"
   ]
  },
  {
   "cell_type": "markdown",
   "metadata": {},
   "source": [
    "We can use filtering techniques to see only certain rows of our data. Let's look at only animals taken into the center during or after 2020:"
   ]
  },
  {
   "cell_type": "code",
   "execution_count": null,
   "metadata": {
    "ExecuteTime": {
     "end_time": "2023-04-07T16:55:38.147251Z",
     "start_time": "2023-04-07T16:55:38.124751Z"
    }
   },
   "outputs": [],
   "source": [
    "# Check which rows have an intake year greater than or equal to 2020\n",
    "df['Year'] >= 2020"
   ]
  },
  {
   "cell_type": "code",
   "execution_count": null,
   "metadata": {
    "ExecuteTime": {
     "end_time": "2023-04-07T16:56:09.596751Z",
     "start_time": "2023-04-07T16:56:09.568753Z"
    }
   },
   "outputs": [],
   "source": [
    "# Let's explore an interesting property of boolean columns...\n",
    "# Find out the total sum of animals taken in during or after 2020\n",
    "sum(df['Year'] >= 2020)"
   ]
  },
  {
   "cell_type": "markdown",
   "metadata": {},
   "source": [
    "But this only gives us True/False outputs... what if we want to really filter?"
   ]
  },
  {
   "cell_type": "code",
   "execution_count": null,
   "metadata": {
    "ExecuteTime": {
     "end_time": "2023-04-07T16:58:50.331751Z",
     "start_time": "2023-04-07T16:58:50.322251Z"
    }
   },
   "outputs": [],
   "source": [
    "filter2020 = df['Year'] >= 2020"
   ]
  },
  {
   "cell_type": "code",
   "execution_count": null,
   "metadata": {
    "ExecuteTime": {
     "end_time": "2023-04-07T16:58:57.291252Z",
     "start_time": "2023-04-07T16:58:57.252250Z"
    },
    "scrolled": true
   },
   "outputs": [],
   "source": [
    "df[  filter2020      ]"
   ]
  },
  {
   "cell_type": "code",
   "execution_count": null,
   "metadata": {},
   "outputs": [],
   "source": []
  },
  {
   "cell_type": "code",
   "execution_count": null,
   "metadata": {},
   "outputs": [],
   "source": []
  },
  {
   "cell_type": "code",
   "execution_count": null,
   "metadata": {},
   "outputs": [],
   "source": []
  },
  {
   "cell_type": "markdown",
   "metadata": {},
   "source": [
    "## `.loc` "
   ]
  },
  {
   "cell_type": "markdown",
   "metadata": {},
   "source": [
    "We can locate and segment down to only rows where some condition is true using `.loc`. This takes in a condition, and only outputs the rows where that condition is True! \n",
    "\n",
    "> **Note:** locate (`.loc`) uses square brackets, not parentheses! Often, square brackets denote location-focused actions, like this one.\n",
    "\n",
    "Let's try this first with the condition we just built, and locate all animals taken in during or after 2020."
   ]
  },
  {
   "cell_type": "code",
   "execution_count": null,
   "metadata": {
    "ExecuteTime": {
     "end_time": "2023-04-07T16:59:41.295751Z",
     "start_time": "2023-04-07T16:59:41.267752Z"
    }
   },
   "outputs": [],
   "source": [
    "# Create a subset dataframe of animals taken in during or after 2020\n",
    "post2020 = df.loc[ filter2020]"
   ]
  },
  {
   "cell_type": "code",
   "execution_count": null,
   "metadata": {
    "ExecuteTime": {
     "end_time": "2023-04-07T16:59:47.728251Z",
     "start_time": "2023-04-07T16:59:47.711251Z"
    }
   },
   "outputs": [],
   "source": [
    "# Sanity check\n",
    "post2020.head()"
   ]
  },
  {
   "cell_type": "markdown",
   "metadata": {},
   "source": [
    "We can return only certain columns when we do this, by adding an argument after the condition:"
   ]
  },
  {
   "cell_type": "code",
   "execution_count": null,
   "metadata": {
    "ExecuteTime": {
     "end_time": "2023-04-07T17:00:35.065251Z",
     "start_time": "2023-04-07T17:00:35.029751Z"
    }
   },
   "outputs": [],
   "source": [
    "# Let's return just the 'Animal ID', 'DateTime' and 'Type' columns\n",
    "post2020 = df.loc[    filter2020,     ['Animal ID','DateTime','Type']     ]"
   ]
  },
  {
   "cell_type": "code",
   "execution_count": null,
   "metadata": {
    "ExecuteTime": {
     "end_time": "2023-04-07T17:00:43.714251Z",
     "start_time": "2023-04-07T17:00:43.703752Z"
    }
   },
   "outputs": [],
   "source": [
    "post2020.head()"
   ]
  },
  {
   "cell_type": "markdown",
   "metadata": {},
   "source": [
    "What if I want to segment using multiple conditions? Use `&` for \"and\" and `|` for \"or\" - and use parentheses around individual conditions!"
   ]
  },
  {
   "cell_type": "code",
   "execution_count": null,
   "metadata": {},
   "outputs": [],
   "source": [
    "# Find all the Stray Cats taken in during or after 2020\n"
   ]
  },
  {
   "cell_type": "code",
   "execution_count": null,
   "metadata": {
    "ExecuteTime": {
     "end_time": "2023-04-07T17:01:42.366251Z",
     "start_time": "2023-04-07T17:01:42.349751Z"
    }
   },
   "outputs": [],
   "source": [
    "catfilter = df['Type'] == 'Stray Cat'"
   ]
  },
  {
   "cell_type": "code",
   "execution_count": null,
   "metadata": {
    "ExecuteTime": {
     "end_time": "2023-04-07T17:02:23.658252Z",
     "start_time": "2023-04-07T17:02:23.617251Z"
    }
   },
   "outputs": [],
   "source": [
    "df.loc[catfilter & filter2020]"
   ]
  },
  {
   "cell_type": "code",
   "execution_count": null,
   "metadata": {
    "ExecuteTime": {
     "end_time": "2023-04-07T17:04:29.626751Z",
     "start_time": "2023-04-07T17:04:29.593752Z"
    }
   },
   "outputs": [],
   "source": [
    "df.loc[ (df['Type'] == 'Stray Cat') & (df['Year'] >=2020)  ]"
   ]
  },
  {
   "cell_type": "code",
   "execution_count": null,
   "metadata": {},
   "outputs": [],
   "source": []
  },
  {
   "cell_type": "code",
   "execution_count": null,
   "metadata": {},
   "outputs": [],
   "source": []
  },
  {
   "cell_type": "markdown",
   "metadata": {
    "heading_collapsed": true
   },
   "source": [
    "### Your turn!"
   ]
  },
  {
   "cell_type": "markdown",
   "metadata": {
    "heading_collapsed": true,
    "hidden": true
   },
   "source": [
    "#### Exercise 1\n",
    "\n",
    "You need to find dogs that need extra attention - How would you find all dogs where the intake condition is NOT normal?"
   ]
  },
  {
   "cell_type": "code",
   "execution_count": null,
   "metadata": {
    "hidden": true
   },
   "outputs": [],
   "source": [
    "# Your code here"
   ]
  },
  {
   "cell_type": "markdown",
   "metadata": {
    "heading_collapsed": true,
    "hidden": true
   },
   "source": [
    "#### Exercise 2\n",
    "\n",
    "You need to find animals that might need to be fixed - How would you find all animals that are either Intact Male or Intact Female?"
   ]
  },
  {
   "cell_type": "code",
   "execution_count": null,
   "metadata": {
    "hidden": true
   },
   "outputs": [],
   "source": [
    "# Your code here"
   ]
  },
  {
   "cell_type": "markdown",
   "metadata": {},
   "source": [
    "## `.iloc`"
   ]
  },
  {
   "cell_type": "markdown",
   "metadata": {},
   "source": [
    "`.iloc` is used for integer-location based indexing, aka locate by number. It can take in lists of numbers, python slices, or specific numbers - but sometimes it can be a bit tricky!"
   ]
  },
  {
   "cell_type": "code",
   "execution_count": null,
   "metadata": {
    "ExecuteTime": {
     "end_time": "2023-04-07T17:05:52.350251Z",
     "start_time": "2023-04-07T17:05:52.339250Z"
    }
   },
   "outputs": [],
   "source": [
    "df.index"
   ]
  },
  {
   "cell_type": "code",
   "execution_count": null,
   "metadata": {
    "ExecuteTime": {
     "end_time": "2023-04-07T17:06:08.144751Z",
     "start_time": "2023-04-07T17:06:08.128253Z"
    }
   },
   "outputs": [],
   "source": [
    "# Find the first 3 rows\n",
    "df.iloc[:3]"
   ]
  },
  {
   "cell_type": "code",
   "execution_count": null,
   "metadata": {},
   "outputs": [],
   "source": [
    "# Same as using head(3)\n"
   ]
  },
  {
   "cell_type": "code",
   "execution_count": null,
   "metadata": {
    "ExecuteTime": {
     "end_time": "2023-04-07T17:06:18.545251Z",
     "start_time": "2023-04-07T17:06:18.527751Z"
    }
   },
   "outputs": [],
   "source": [
    "# Can look exactly where the 0 index is\n",
    "df.iloc[0]"
   ]
  },
  {
   "cell_type": "code",
   "execution_count": 9,
   "metadata": {
    "ExecuteTime": {
     "end_time": "2023-04-07T17:07:12.330251Z",
     "start_time": "2023-04-07T17:07:12.309751Z"
    }
   },
   "outputs": [
    {
     "ename": "NameError",
     "evalue": "name 'df' is not defined",
     "output_type": "error",
     "traceback": [
      "\u001b[0;31m---------------------------------------------------------------------------\u001b[0m",
      "\u001b[0;31mNameError\u001b[0m                                 Traceback (most recent call last)",
      "\u001b[0;32m<ipython-input-9-e10839102250>\u001b[0m in \u001b[0;36m<module>\u001b[0;34m\u001b[0m\n\u001b[1;32m      1\u001b[0m \u001b[0;31m# But what about our subset dataframe above? It doesn't have an index 0\u001b[0m\u001b[0;34m\u001b[0m\u001b[0;34m\u001b[0m\u001b[0;34m\u001b[0m\u001b[0m\n\u001b[0;32m----> 2\u001b[0;31m \u001b[0mdf\u001b[0m\u001b[0;34m.\u001b[0m\u001b[0miloc\u001b[0m\u001b[0;34m[\u001b[0m\u001b[0;34m:\u001b[0m\u001b[0;36m5\u001b[0m\u001b[0;34m]\u001b[0m\u001b[0;34m\u001b[0m\u001b[0;34m\u001b[0m\u001b[0m\n\u001b[0m",
      "\u001b[0;31mNameError\u001b[0m: name 'df' is not defined"
     ]
    }
   ],
   "source": [
    "# But what about our subset dataframe above? It doesn't have an index 0\n",
    "df.iloc[:5]"
   ]
  },
  {
   "cell_type": "code",
   "execution_count": null,
   "metadata": {},
   "outputs": [],
   "source": [
    "# Try it...\n"
   ]
  },
  {
   "cell_type": "markdown",
   "metadata": {},
   "source": [
    "# Series Methods"
   ]
  },
  {
   "cell_type": "markdown",
   "metadata": {},
   "source": [
    "## `.value_counts()`"
   ]
  },
  {
   "cell_type": "markdown",
   "metadata": {},
   "source": [
    "How many different values does the Animal Type column have? What about Breed?"
   ]
  },
  {
   "cell_type": "code",
   "execution_count": 114,
   "metadata": {
    "ExecuteTime": {
     "end_time": "2023-04-07T17:07:47.298251Z",
     "start_time": "2023-04-07T17:07:47.281782Z"
    },
    "scrolled": true
   },
   "outputs": [
    {
     "data": {
      "text/plain": [
       "Dog          77098\n",
       "Cat          51752\n",
       "Other         7253\n",
       "Bird           636\n",
       "Livestock       24\n",
       "Name: Animal Type, dtype: int64"
      ]
     },
     "execution_count": 114,
     "metadata": {},
     "output_type": "execute_result"
    }
   ],
   "source": [
    "# Check the value counts for Animal Type\n",
    "df['Animal Type'].value_counts()"
   ]
  },
  {
   "cell_type": "code",
   "execution_count": 115,
   "metadata": {
    "ExecuteTime": {
     "end_time": "2023-04-07T17:08:11.230253Z",
     "start_time": "2023-04-07T17:08:11.206253Z"
    }
   },
   "outputs": [
    {
     "data": {
      "text/plain": [
       "Index(['Dog', 'Cat', 'Other', 'Bird', 'Livestock'], dtype='object')"
      ]
     },
     "execution_count": 115,
     "metadata": {},
     "output_type": "execute_result"
    }
   ],
   "source": [
    "df['Animal Type'].value_counts().index"
   ]
  },
  {
   "cell_type": "code",
   "execution_count": 116,
   "metadata": {
    "ExecuteTime": {
     "end_time": "2023-04-07T17:08:20.065253Z",
     "start_time": "2023-04-07T17:08:20.047251Z"
    }
   },
   "outputs": [
    {
     "data": {
      "text/plain": [
       "array([77098, 51752,  7253,   636,    24], dtype=int64)"
      ]
     },
     "execution_count": 116,
     "metadata": {},
     "output_type": "execute_result"
    }
   ],
   "source": [
    "df['Animal Type'].value_counts().values"
   ]
  },
  {
   "cell_type": "code",
   "execution_count": null,
   "metadata": {},
   "outputs": [],
   "source": []
  },
  {
   "cell_type": "code",
   "execution_count": 118,
   "metadata": {
    "ExecuteTime": {
     "end_time": "2023-04-07T17:09:00.489255Z",
     "start_time": "2023-04-07T17:09:00.463251Z"
    },
    "scrolled": true
   },
   "outputs": [
    {
     "data": {
      "text/plain": [
       "Domestic Shorthair Mix                   32034\n",
       "Domestic Shorthair                       10440\n",
       "Pit Bull Mix                              8913\n",
       "Labrador Retriever Mix                    7370\n",
       "Chihuahua Shorthair Mix                   6486\n",
       "                                         ...  \n",
       "Domestic Shorthair/American Shorthair        1\n",
       "Dachshund Longhair/Pomeranian                1\n",
       "German Shepherd/English Coonhound            1\n",
       "Miniature Schnauzer/Scottish Terrier         1\n",
       "Flat Coat Retriever/Chow Chow                1\n",
       "Name: Breed, Length: 2734, dtype: int64"
      ]
     },
     "execution_count": 118,
     "metadata": {},
     "output_type": "execute_result"
    }
   ],
   "source": [
    "# Now check Breed\n",
    "df['Breed'].value_counts()"
   ]
  },
  {
   "cell_type": "markdown",
   "metadata": {},
   "source": [
    "Sometimes, this is more useful than others... but, can check the percentage of the total, which might be more useful!"
   ]
  },
  {
   "cell_type": "code",
   "execution_count": 119,
   "metadata": {
    "ExecuteTime": {
     "end_time": "2023-04-07T17:09:25.413252Z",
     "start_time": "2023-04-07T17:09:25.390253Z"
    }
   },
   "outputs": [
    {
     "data": {
      "text/plain": [
       "Dog          0.563734\n",
       "Cat          0.378406\n",
       "Other        0.053033\n",
       "Bird         0.004650\n",
       "Livestock    0.000175\n",
       "Name: Animal Type, dtype: float64"
      ]
     },
     "execution_count": 119,
     "metadata": {},
     "output_type": "execute_result"
    }
   ],
   "source": [
    "# Use the normalize argument to view as percentages\n",
    "df['Animal Type'].value_counts(normalize=True)"
   ]
  },
  {
   "cell_type": "markdown",
   "metadata": {},
   "source": [
    "## `.sort_values()`\n",
    "\n",
    "As you can imagine, this works differently whether you're using it on a numeric or non-numeric column"
   ]
  },
  {
   "cell_type": "code",
   "execution_count": 123,
   "metadata": {
    "ExecuteTime": {
     "end_time": "2023-04-07T17:11:12.285251Z",
     "start_time": "2023-04-07T17:11:12.197751Z"
    },
    "scrolled": true
   },
   "outputs": [
    {
     "data": {
      "text/html": [
       "<div>\n",
       "<style scoped>\n",
       "    .dataframe tbody tr th:only-of-type {\n",
       "        vertical-align: middle;\n",
       "    }\n",
       "\n",
       "    .dataframe tbody tr th {\n",
       "        vertical-align: top;\n",
       "    }\n",
       "\n",
       "    .dataframe thead th {\n",
       "        text-align: right;\n",
       "    }\n",
       "</style>\n",
       "<table border=\"1\" class=\"dataframe\">\n",
       "  <thead>\n",
       "    <tr style=\"text-align: right;\">\n",
       "      <th></th>\n",
       "      <th>Animal ID</th>\n",
       "      <th>Name</th>\n",
       "      <th>DateTime</th>\n",
       "      <th>Year</th>\n",
       "      <th>Found Location</th>\n",
       "      <th>Intake Type</th>\n",
       "      <th>Intake Condition</th>\n",
       "      <th>Animal Type</th>\n",
       "      <th>Sex upon Intake</th>\n",
       "      <th>Age upon Intake</th>\n",
       "      <th>Breed</th>\n",
       "      <th>Color</th>\n",
       "      <th>Type</th>\n",
       "    </tr>\n",
       "  </thead>\n",
       "  <tbody>\n",
       "    <tr>\n",
       "      <th>136762</th>\n",
       "      <td>A852194</td>\n",
       "      <td>Queen</td>\n",
       "      <td>2022-02-27 13:44:00</td>\n",
       "      <td>2022</td>\n",
       "      <td>8071 N Lamar Blvd in Austin (TX)</td>\n",
       "      <td>Stray</td>\n",
       "      <td>Normal</td>\n",
       "      <td>Dog</td>\n",
       "      <td>Intact Female</td>\n",
       "      <td>4 months</td>\n",
       "      <td>Cane Corso</td>\n",
       "      <td>Blue Cream</td>\n",
       "      <td>Stray Dog</td>\n",
       "    </tr>\n",
       "    <tr>\n",
       "      <th>135587</th>\n",
       "      <td>A849913</td>\n",
       "      <td>*Lizzy</td>\n",
       "      <td>2022-01-15 10:44:00</td>\n",
       "      <td>2022</td>\n",
       "      <td>7405 Grenadine Bloom Bend in Travis (TX)</td>\n",
       "      <td>Stray</td>\n",
       "      <td>Normal</td>\n",
       "      <td>Dog</td>\n",
       "      <td>Intact Female</td>\n",
       "      <td>4 years</td>\n",
       "      <td>American Foxhound</td>\n",
       "      <td>Red/White</td>\n",
       "      <td>Stray Dog</td>\n",
       "    </tr>\n",
       "    <tr>\n",
       "      <th>135572</th>\n",
       "      <td>A850499</td>\n",
       "      <td>Reeses</td>\n",
       "      <td>2022-01-25 16:29:00</td>\n",
       "      <td>2022</td>\n",
       "      <td>14200 North Ih 35 in Austin (TX)</td>\n",
       "      <td>Stray</td>\n",
       "      <td>Normal</td>\n",
       "      <td>Dog</td>\n",
       "      <td>Spayed Female</td>\n",
       "      <td>2 years</td>\n",
       "      <td>Australian Cattle Dog Mix</td>\n",
       "      <td>Black/Brown</td>\n",
       "      <td>Stray Dog</td>\n",
       "    </tr>\n",
       "    <tr>\n",
       "      <th>135573</th>\n",
       "      <td>A850241</td>\n",
       "      <td>*Raven</td>\n",
       "      <td>2022-01-20 17:46:00</td>\n",
       "      <td>2022</td>\n",
       "      <td>7810 Old Bee Caves Road in Austin (TX)</td>\n",
       "      <td>Stray</td>\n",
       "      <td>Injured</td>\n",
       "      <td>Dog</td>\n",
       "      <td>Intact Female</td>\n",
       "      <td>4 months</td>\n",
       "      <td>Labrador Retriever</td>\n",
       "      <td>Black/White</td>\n",
       "      <td>Stray Dog</td>\n",
       "    </tr>\n",
       "    <tr>\n",
       "      <th>135575</th>\n",
       "      <td>A850500</td>\n",
       "      <td>Bear</td>\n",
       "      <td>2022-01-25 16:29:00</td>\n",
       "      <td>2022</td>\n",
       "      <td>14200 North Ih 35 in Austin (TX)</td>\n",
       "      <td>Stray</td>\n",
       "      <td>Normal</td>\n",
       "      <td>Dog</td>\n",
       "      <td>Intact Male</td>\n",
       "      <td>9 months</td>\n",
       "      <td>Labrador Retriever Mix</td>\n",
       "      <td>Black/White</td>\n",
       "      <td>Stray Dog</td>\n",
       "    </tr>\n",
       "    <tr>\n",
       "      <th>...</th>\n",
       "      <td>...</td>\n",
       "      <td>...</td>\n",
       "      <td>...</td>\n",
       "      <td>...</td>\n",
       "      <td>...</td>\n",
       "      <td>...</td>\n",
       "      <td>...</td>\n",
       "      <td>...</td>\n",
       "      <td>...</td>\n",
       "      <td>...</td>\n",
       "      <td>...</td>\n",
       "      <td>...</td>\n",
       "      <td>...</td>\n",
       "    </tr>\n",
       "    <tr>\n",
       "      <th>124294</th>\n",
       "      <td>A668263</td>\n",
       "      <td>NaN</td>\n",
       "      <td>2013-12-01 00:00:00</td>\n",
       "      <td>2013</td>\n",
       "      <td>2801 E. Wells Branch in Travis (TX)</td>\n",
       "      <td>Wildlife</td>\n",
       "      <td>Normal</td>\n",
       "      <td>Other</td>\n",
       "      <td>Unknown</td>\n",
       "      <td>6 months</td>\n",
       "      <td>Bat Mix</td>\n",
       "      <td>Brown</td>\n",
       "      <td>Wildlife Other</td>\n",
       "    </tr>\n",
       "    <tr>\n",
       "      <th>90281</th>\n",
       "      <td>A667998</td>\n",
       "      <td>*Ginger</td>\n",
       "      <td>2013-11-26 12:10:00</td>\n",
       "      <td>2013</td>\n",
       "      <td>Austin (TX)</td>\n",
       "      <td>Owner Surrender</td>\n",
       "      <td>Normal</td>\n",
       "      <td>Dog</td>\n",
       "      <td>Spayed Female</td>\n",
       "      <td>4 years</td>\n",
       "      <td>Pit Bull Mix</td>\n",
       "      <td>Brown/White</td>\n",
       "      <td>Owner Surrender Dog</td>\n",
       "    </tr>\n",
       "    <tr>\n",
       "      <th>49519</th>\n",
       "      <td>A669182</td>\n",
       "      <td>Hunter</td>\n",
       "      <td>2013-12-16 16:24:00</td>\n",
       "      <td>2013</td>\n",
       "      <td>Pflugerville (TX)</td>\n",
       "      <td>Owner Surrender</td>\n",
       "      <td>Normal</td>\n",
       "      <td>Dog</td>\n",
       "      <td>Intact Male</td>\n",
       "      <td>1 month</td>\n",
       "      <td>Labrador Retriever Mix</td>\n",
       "      <td>White</td>\n",
       "      <td>Owner Surrender Dog</td>\n",
       "    </tr>\n",
       "    <tr>\n",
       "      <th>80137</th>\n",
       "      <td>A666629</td>\n",
       "      <td>*Lambchop</td>\n",
       "      <td>2013-11-04 18:44:00</td>\n",
       "      <td>2013</td>\n",
       "      <td>21906 Silvia Dr in Travis (TX)</td>\n",
       "      <td>Stray</td>\n",
       "      <td>Normal</td>\n",
       "      <td>Dog</td>\n",
       "      <td>Intact Male</td>\n",
       "      <td>2 years</td>\n",
       "      <td>Australian Cattle Dog Mix</td>\n",
       "      <td>Brown Brindle/White</td>\n",
       "      <td>Stray Dog</td>\n",
       "    </tr>\n",
       "    <tr>\n",
       "      <th>113072</th>\n",
       "      <td>A653346</td>\n",
       "      <td>NaN</td>\n",
       "      <td>2013-10-24 13:17:00</td>\n",
       "      <td>2013</td>\n",
       "      <td>13512 Mizzen in Manor (TX)</td>\n",
       "      <td>Stray</td>\n",
       "      <td>Normal</td>\n",
       "      <td>Cat</td>\n",
       "      <td>Spayed Female</td>\n",
       "      <td>2 years</td>\n",
       "      <td>Domestic Shorthair Mix</td>\n",
       "      <td>Tortie</td>\n",
       "      <td>Stray Cat</td>\n",
       "    </tr>\n",
       "  </tbody>\n",
       "</table>\n",
       "<p>136763 rows × 13 columns</p>\n",
       "</div>"
      ],
      "text/plain": [
       "       Animal ID       Name             DateTime  Year  \\\n",
       "136762   A852194      Queen  2022-02-27 13:44:00  2022   \n",
       "135587   A849913     *Lizzy  2022-01-15 10:44:00  2022   \n",
       "135572   A850499     Reeses  2022-01-25 16:29:00  2022   \n",
       "135573   A850241     *Raven  2022-01-20 17:46:00  2022   \n",
       "135575   A850500       Bear  2022-01-25 16:29:00  2022   \n",
       "...          ...        ...                  ...   ...   \n",
       "124294   A668263        NaN  2013-12-01 00:00:00  2013   \n",
       "90281    A667998    *Ginger  2013-11-26 12:10:00  2013   \n",
       "49519    A669182     Hunter  2013-12-16 16:24:00  2013   \n",
       "80137    A666629  *Lambchop  2013-11-04 18:44:00  2013   \n",
       "113072   A653346        NaN  2013-10-24 13:17:00  2013   \n",
       "\n",
       "                                  Found Location      Intake Type  \\\n",
       "136762          8071 N Lamar Blvd in Austin (TX)            Stray   \n",
       "135587  7405 Grenadine Bloom Bend in Travis (TX)            Stray   \n",
       "135572          14200 North Ih 35 in Austin (TX)            Stray   \n",
       "135573    7810 Old Bee Caves Road in Austin (TX)            Stray   \n",
       "135575          14200 North Ih 35 in Austin (TX)            Stray   \n",
       "...                                          ...              ...   \n",
       "124294       2801 E. Wells Branch in Travis (TX)         Wildlife   \n",
       "90281                                Austin (TX)  Owner Surrender   \n",
       "49519                          Pflugerville (TX)  Owner Surrender   \n",
       "80137             21906 Silvia Dr in Travis (TX)            Stray   \n",
       "113072                13512 Mizzen in Manor (TX)            Stray   \n",
       "\n",
       "       Intake Condition Animal Type Sex upon Intake Age upon Intake  \\\n",
       "136762           Normal         Dog   Intact Female        4 months   \n",
       "135587           Normal         Dog   Intact Female         4 years   \n",
       "135572           Normal         Dog   Spayed Female         2 years   \n",
       "135573          Injured         Dog   Intact Female        4 months   \n",
       "135575           Normal         Dog     Intact Male        9 months   \n",
       "...                 ...         ...             ...             ...   \n",
       "124294           Normal       Other         Unknown        6 months   \n",
       "90281            Normal         Dog   Spayed Female         4 years   \n",
       "49519            Normal         Dog     Intact Male         1 month   \n",
       "80137            Normal         Dog     Intact Male         2 years   \n",
       "113072           Normal         Cat   Spayed Female         2 years   \n",
       "\n",
       "                            Breed                Color                 Type  \n",
       "136762                 Cane Corso           Blue Cream            Stray Dog  \n",
       "135587          American Foxhound            Red/White            Stray Dog  \n",
       "135572  Australian Cattle Dog Mix          Black/Brown            Stray Dog  \n",
       "135573         Labrador Retriever          Black/White            Stray Dog  \n",
       "135575     Labrador Retriever Mix          Black/White            Stray Dog  \n",
       "...                           ...                  ...                  ...  \n",
       "124294                    Bat Mix                Brown       Wildlife Other  \n",
       "90281                Pit Bull Mix          Brown/White  Owner Surrender Dog  \n",
       "49519      Labrador Retriever Mix                White  Owner Surrender Dog  \n",
       "80137   Australian Cattle Dog Mix  Brown Brindle/White            Stray Dog  \n",
       "113072     Domestic Shorthair Mix               Tortie            Stray Cat  \n",
       "\n",
       "[136763 rows x 13 columns]"
      ]
     },
     "execution_count": 123,
     "metadata": {},
     "output_type": "execute_result"
    }
   ],
   "source": [
    "# Let's sort the year column\n",
    "df.sort_values(by='Year',ascending=False, )"
   ]
  },
  {
   "cell_type": "code",
   "execution_count": 124,
   "metadata": {
    "ExecuteTime": {
     "end_time": "2023-04-07T17:12:03.667251Z",
     "start_time": "2023-04-07T17:12:03.586252Z"
    }
   },
   "outputs": [
    {
     "data": {
      "text/plain": [
       "57316      Bird\n",
       "79944      Bird\n",
       "10022      Bird\n",
       "130286     Bird\n",
       "105888     Bird\n",
       "          ...  \n",
       "65050     Other\n",
       "123407    Other\n",
       "94470     Other\n",
       "94463     Other\n",
       "41614     Other\n",
       "Name: Animal Type, Length: 136763, dtype: object"
      ]
     },
     "execution_count": 124,
     "metadata": {},
     "output_type": "execute_result"
    }
   ],
   "source": [
    "# Now, sort the Animal Type col\n",
    "df['Animal Type'].sort_values()"
   ]
  },
  {
   "cell_type": "code",
   "execution_count": null,
   "metadata": {},
   "outputs": [],
   "source": [
    "# We can do this on the whole dataframe, it just needs to know what to sort by\n"
   ]
  },
  {
   "cell_type": "markdown",
   "metadata": {
    "heading_collapsed": true
   },
   "source": [
    "# Extra Credit: Find a .csv file online and experiment with it."
   ]
  },
  {
   "cell_type": "markdown",
   "metadata": {
    "hidden": true
   },
   "source": [
    "Head to [dataportals.org](https://dataportals.org) to find a .csv file."
   ]
  },
  {
   "cell_type": "code",
   "execution_count": null,
   "metadata": {
    "hidden": true
   },
   "outputs": [],
   "source": []
  }
 ],
 "metadata": {
  "kernelspec": {
   "display_name": "Python (learn-env)",
   "language": "python",
   "name": "learn-env"
  },
  "language_info": {
   "codemirror_mode": {
    "name": "ipython",
    "version": 3
   },
   "file_extension": ".py",
   "mimetype": "text/x-python",
   "name": "python",
   "nbconvert_exporter": "python",
   "pygments_lexer": "ipython3",
   "version": "3.8.5"
  },
  "toc": {
   "base_numbering": 1,
   "nav_menu": {},
   "number_sections": true,
   "sideBar": true,
   "skip_h1_title": false,
   "title_cell": "Table of Contents",
   "title_sidebar": "Contents",
   "toc_cell": true,
   "toc_position": {
    "height": "calc(100% - 180px)",
    "left": "10px",
    "top": "150px",
    "width": "384px"
   },
   "toc_section_display": true,
   "toc_window_display": false
  },
  "varInspector": {
   "cols": {
    "lenName": 16,
    "lenType": 16,
    "lenVar": 40
   },
   "kernels_config": {
    "python": {
     "delete_cmd_postfix": "",
     "delete_cmd_prefix": "del ",
     "library": "var_list.py",
     "varRefreshCmd": "print(var_dic_list())"
    },
    "r": {
     "delete_cmd_postfix": ") ",
     "delete_cmd_prefix": "rm(",
     "library": "var_list.r",
     "varRefreshCmd": "cat(var_dic_list()) "
    }
   },
   "types_to_exclude": [
    "module",
    "function",
    "builtin_function_or_method",
    "instance",
    "_Feature"
   ],
   "window_display": false
  }
 },
 "nbformat": 4,
 "nbformat_minor": 2
}
